{
 "cells": [
  {
   "cell_type": "markdown",
   "metadata": {},
   "source": [
    "<img src=\"https://uwe-cyber.github.io/images/uwe_banner.png\">\n",
    "\n",
    "# UFCFEL-15-3 Security Data Analytics and Visualisation\n",
    "## Portfolio Assignment: Part 3\n",
    "### Academic year: 2024-25\n",
    "\n",
    "## Conduct a security investigation into a suspected insider threat\n",
    "---\n",
    "\n",
    "**UWEtech** are calling you back once more to help them with their security challenges. They believe that one of their employees has been the cause of their recent security problems, and they believe they may have an insider threat within the company. They enlist your help to examine employee log activity, to see what behaviours deviate from the norm and to identify which user may be acting as a threat to their organisation.\n",
    "\n",
    "**Dataset:** You will be issued a **unique dataset** based on your UWE student ID. **Failure to use the dataset that corresponds to your student ID will result in zero marks.** Please access the datasets via Blackboard.\n",
    "\n",
    "**This exercise carries a weight of 45% towards your overall portfolio submission**\n",
    "\n",
    "\n",
    "### Submission Documents\n",
    "---\n",
    "\n",
    "For Part 3 of your portfolio, your complete output file should be saved as:\n",
    "\n",
    "- **STUDENT_ID-PART3.ipynb**\n",
    "\n",
    "This should then be included in a ZIP file along with your other two portfolio documents.\n",
    "\n",
    "The deadline for your portfolio submission is **THURSDAY 12th DECEMBER @ 14:00**. "
   ]
  },
  {
   "cell_type": "markdown",
   "metadata": {},
   "source": [
    "## DATASET: Load in the data\n",
    "\n",
    "**Please provide the string below that you have been assigned as given in the spreadsheet available on Blackboard. The directory containing your dataset should be at the same location as your notebook file.**"
   ]
  },
  {
   "cell_type": "code",
   "execution_count": 12,
   "metadata": {},
   "outputs": [],
   "source": [
    "# PLEASE ENTER THE NAME OF THE DATASET ASSIGNED TO YOU AS INDICATED ON BLACKBOARD\n",
    "DATASET = 'uwetech-dataset01'"
   ]
  },
  {
   "cell_type": "markdown",
   "metadata": {},
   "source": [
    "### Function for loading data - do not change"
   ]
  },
  {
   "cell_type": "code",
   "execution_count": 13,
   "metadata": {},
   "outputs": [
    {
     "name": "stderr",
     "output_type": "stream",
     "text": [
      "C:\\Users\\alexh\\AppData\\Local\\Temp\\ipykernel_28712\\3678823198.py:11: UserWarning: Could not infer format, so each element will be parsed individually, falling back to `dateutil`. To ensure parsing is consistent and as-expected, please specify a format.\n",
      "  email_data = pd.read_csv('./' + DATASET + '/email_data.csv', parse_dates=True, index_col=0)\n",
      "C:\\Users\\alexh\\AppData\\Local\\Temp\\ipykernel_28712\\3678823198.py:12: UserWarning: Could not infer format, so each element will be parsed individually, falling back to `dateutil`. To ensure parsing is consistent and as-expected, please specify a format.\n",
      "  file_data = pd.read_csv('./' + DATASET + '/file_data.csv', parse_dates=True, index_col=0)\n",
      "C:\\Users\\alexh\\AppData\\Local\\Temp\\ipykernel_28712\\3678823198.py:13: UserWarning: Could not infer format, so each element will be parsed individually, falling back to `dateutil`. To ensure parsing is consistent and as-expected, please specify a format.\n",
      "  web_data = pd.read_csv('./' + DATASET + '/web_data.csv', parse_dates=True, index_col=0)\n",
      "C:\\Users\\alexh\\AppData\\Local\\Temp\\ipykernel_28712\\3678823198.py:14: UserWarning: Could not infer format, so each element will be parsed individually, falling back to `dateutil`. To ensure parsing is consistent and as-expected, please specify a format.\n",
      "  login_data = pd.read_csv('./' + DATASET + '/login_data.csv', parse_dates=True, index_col=0)\n",
      "C:\\Users\\alexh\\AppData\\Local\\Temp\\ipykernel_28712\\3678823198.py:15: UserWarning: Could not infer format, so each element will be parsed individually, falling back to `dateutil`. To ensure parsing is consistent and as-expected, please specify a format.\n",
      "  usb_data = pd.read_csv('./' + DATASET + '/usb_data.csv', parse_dates=True, index_col=0)\n"
     ]
    }
   ],
   "source": [
    "import random\n",
    "import string\n",
    "import pandas as pd\n",
    "import matplotlib.pyplot as plt\n",
    "import seaborn\n",
    "import datetime\n",
    "\n",
    "def load_data(DATASET):\n",
    "    dataset_list = ['uwetech-dataset01', 'uwetech-dataset02', 'uwetech-dataset03', 'uwetech-dataset04']\n",
    "    if DATASET in dataset_list:\n",
    "        email_data = pd.read_csv('./' + DATASET + '/email_data.csv', parse_dates=True, index_col=0)\n",
    "        file_data = pd.read_csv('./' + DATASET + '/file_data.csv', parse_dates=True, index_col=0)\n",
    "        web_data = pd.read_csv('./' + DATASET + '/web_data.csv', parse_dates=True, index_col=0)\n",
    "        login_data = pd.read_csv('./' + DATASET + '/login_data.csv', parse_dates=True, index_col=0)\n",
    "        usb_data = pd.read_csv('./' + DATASET + '/usb_data.csv', parse_dates=True, index_col=0)\n",
    "        employee_data = pd.read_csv('./' + DATASET + '/employee_data.csv', index_col=0)\n",
    "        \n",
    "        email_data['datetime'] = pd.to_datetime(email_data['datetime'])\n",
    "        file_data['datetime'] = pd.to_datetime(file_data['datetime'])\n",
    "        web_data['datetime'] = pd.to_datetime(web_data['datetime'])\n",
    "        login_data['datetime'] = pd.to_datetime(login_data['datetime'])\n",
    "        usb_data['datetime'] = pd.to_datetime(usb_data['datetime'])\n",
    "    else:\n",
    "        print (\"DATASET variable not defined - please refer to Blackboard for DATASET name\")\n",
    "        return\n",
    "    return employee_data, login_data, usb_data, web_data, file_data, email_data\n",
    "\n",
    "employee_data, login_data, usb_data, web_data, file_data, email_data = load_data(DATASET)"
   ]
  },
  {
   "cell_type": "markdown",
   "metadata": {},
   "source": [
    "### The following code samples may be useful to aid your investigation"
   ]
  },
  {
   "cell_type": "code",
   "execution_count": 14,
   "metadata": {},
   "outputs": [
    {
     "data": {
      "text/html": [
       "<div>\n",
       "<style scoped>\n",
       "    .dataframe tbody tr th:only-of-type {\n",
       "        vertical-align: middle;\n",
       "    }\n",
       "\n",
       "    .dataframe tbody tr th {\n",
       "        vertical-align: top;\n",
       "    }\n",
       "\n",
       "    .dataframe thead th {\n",
       "        text-align: right;\n",
       "    }\n",
       "</style>\n",
       "<table border=\"1\" class=\"dataframe\">\n",
       "  <thead>\n",
       "    <tr style=\"text-align: right;\">\n",
       "      <th></th>\n",
       "      <th>user</th>\n",
       "      <th>role</th>\n",
       "      <th>email</th>\n",
       "      <th>pc</th>\n",
       "    </tr>\n",
       "  </thead>\n",
       "  <tbody>\n",
       "    <tr>\n",
       "      <th>0</th>\n",
       "      <td>usr-esz</td>\n",
       "      <td>Security</td>\n",
       "      <td>usr-esz@cyberwave-solutions.com</td>\n",
       "      <td>pc0</td>\n",
       "    </tr>\n",
       "    <tr>\n",
       "      <th>1</th>\n",
       "      <td>usr-idp</td>\n",
       "      <td>Security</td>\n",
       "      <td>usr-idp@cyberwave-solutions.com</td>\n",
       "      <td>pc1</td>\n",
       "    </tr>\n",
       "    <tr>\n",
       "      <th>2</th>\n",
       "      <td>usr-pum</td>\n",
       "      <td>Security</td>\n",
       "      <td>usr-pum@cyberwave-solutions.com</td>\n",
       "      <td>pc2</td>\n",
       "    </tr>\n",
       "    <tr>\n",
       "      <th>3</th>\n",
       "      <td>usr-dpa</td>\n",
       "      <td>Services</td>\n",
       "      <td>usr-dpa@cyberwave-solutions.com</td>\n",
       "      <td>pc3</td>\n",
       "    </tr>\n",
       "    <tr>\n",
       "      <th>4</th>\n",
       "      <td>usr-mnt</td>\n",
       "      <td>Security</td>\n",
       "      <td>usr-mnt@cyberwave-solutions.com</td>\n",
       "      <td>pc4</td>\n",
       "    </tr>\n",
       "    <tr>\n",
       "      <th>...</th>\n",
       "      <td>...</td>\n",
       "      <td>...</td>\n",
       "      <td>...</td>\n",
       "      <td>...</td>\n",
       "    </tr>\n",
       "    <tr>\n",
       "      <th>95</th>\n",
       "      <td>usr-dnm</td>\n",
       "      <td>Security</td>\n",
       "      <td>usr-dnm@cyberwave-solutions.com</td>\n",
       "      <td>pc95</td>\n",
       "    </tr>\n",
       "    <tr>\n",
       "      <th>96</th>\n",
       "      <td>usr-rjr</td>\n",
       "      <td>HR</td>\n",
       "      <td>usr-rjr@cyberwave-solutions.com</td>\n",
       "      <td>pc96</td>\n",
       "    </tr>\n",
       "    <tr>\n",
       "      <th>97</th>\n",
       "      <td>usr-pkd</td>\n",
       "      <td>HR</td>\n",
       "      <td>usr-pkd@cyberwave-solutions.com</td>\n",
       "      <td>pc97</td>\n",
       "    </tr>\n",
       "    <tr>\n",
       "      <th>98</th>\n",
       "      <td>usr-kba</td>\n",
       "      <td>Finance</td>\n",
       "      <td>usr-kba@cyberwave-solutions.com</td>\n",
       "      <td>pc98</td>\n",
       "    </tr>\n",
       "    <tr>\n",
       "      <th>99</th>\n",
       "      <td>usr-jxt</td>\n",
       "      <td>Technical</td>\n",
       "      <td>usr-jxt@cyberwave-solutions.com</td>\n",
       "      <td>pc99</td>\n",
       "    </tr>\n",
       "  </tbody>\n",
       "</table>\n",
       "<p>100 rows × 4 columns</p>\n",
       "</div>"
      ],
      "text/plain": [
       "       user       role                            email    pc\n",
       "0   usr-esz   Security  usr-esz@cyberwave-solutions.com   pc0\n",
       "1   usr-idp   Security  usr-idp@cyberwave-solutions.com   pc1\n",
       "2   usr-pum   Security  usr-pum@cyberwave-solutions.com   pc2\n",
       "3   usr-dpa   Services  usr-dpa@cyberwave-solutions.com   pc3\n",
       "4   usr-mnt   Security  usr-mnt@cyberwave-solutions.com   pc4\n",
       "..      ...        ...                              ...   ...\n",
       "95  usr-dnm   Security  usr-dnm@cyberwave-solutions.com  pc95\n",
       "96  usr-rjr         HR  usr-rjr@cyberwave-solutions.com  pc96\n",
       "97  usr-pkd         HR  usr-pkd@cyberwave-solutions.com  pc97\n",
       "98  usr-kba    Finance  usr-kba@cyberwave-solutions.com  pc98\n",
       "99  usr-jxt  Technical  usr-jxt@cyberwave-solutions.com  pc99\n",
       "\n",
       "[100 rows x 4 columns]"
      ]
     },
     "execution_count": 14,
     "metadata": {},
     "output_type": "execute_result"
    }
   ],
   "source": [
    "# This shows the employee_data DataFrame\n",
    "employee_data"
   ]
  },
  {
   "cell_type": "code",
   "execution_count": 15,
   "metadata": {},
   "outputs": [
    {
     "data": {
      "text/html": [
       "<div>\n",
       "<style scoped>\n",
       "    .dataframe tbody tr th:only-of-type {\n",
       "        vertical-align: middle;\n",
       "    }\n",
       "\n",
       "    .dataframe tbody tr th {\n",
       "        vertical-align: top;\n",
       "    }\n",
       "\n",
       "    .dataframe thead th {\n",
       "        text-align: right;\n",
       "    }\n",
       "</style>\n",
       "<table border=\"1\" class=\"dataframe\">\n",
       "  <thead>\n",
       "    <tr style=\"text-align: right;\">\n",
       "      <th></th>\n",
       "      <th>datetime</th>\n",
       "      <th>user</th>\n",
       "      <th>action</th>\n",
       "      <th>pc</th>\n",
       "    </tr>\n",
       "  </thead>\n",
       "  <tbody>\n",
       "    <tr>\n",
       "      <th>0</th>\n",
       "      <td>2018-01-01 00:21:56</td>\n",
       "      <td>usr-iea</td>\n",
       "      <td>login</td>\n",
       "      <td>pc63</td>\n",
       "    </tr>\n",
       "    <tr>\n",
       "      <th>1</th>\n",
       "      <td>2018-01-01 01:29:51</td>\n",
       "      <td>usr-dnm</td>\n",
       "      <td>login</td>\n",
       "      <td>pc95</td>\n",
       "    </tr>\n",
       "    <tr>\n",
       "      <th>2</th>\n",
       "      <td>2018-01-01 01:32:20</td>\n",
       "      <td>usr-nxa</td>\n",
       "      <td>login</td>\n",
       "      <td>pc9</td>\n",
       "    </tr>\n",
       "    <tr>\n",
       "      <th>3</th>\n",
       "      <td>2018-01-01 01:41:58</td>\n",
       "      <td>usr-pum</td>\n",
       "      <td>login</td>\n",
       "      <td>pc2</td>\n",
       "    </tr>\n",
       "    <tr>\n",
       "      <th>4</th>\n",
       "      <td>2018-01-01 01:46:17</td>\n",
       "      <td>usr-gtn</td>\n",
       "      <td>login</td>\n",
       "      <td>pc52</td>\n",
       "    </tr>\n",
       "    <tr>\n",
       "      <th>...</th>\n",
       "      <td>...</td>\n",
       "      <td>...</td>\n",
       "      <td>...</td>\n",
       "      <td>...</td>\n",
       "    </tr>\n",
       "    <tr>\n",
       "      <th>36195</th>\n",
       "      <td>2018-06-30 23:10:54</td>\n",
       "      <td>usr-dnm</td>\n",
       "      <td>logoff</td>\n",
       "      <td>pc95</td>\n",
       "    </tr>\n",
       "    <tr>\n",
       "      <th>36196</th>\n",
       "      <td>2018-06-30 23:13:54</td>\n",
       "      <td>usr-ayg</td>\n",
       "      <td>logoff</td>\n",
       "      <td>pc28</td>\n",
       "    </tr>\n",
       "    <tr>\n",
       "      <th>36197</th>\n",
       "      <td>2018-06-30 23:39:37</td>\n",
       "      <td>usr-ywt</td>\n",
       "      <td>logoff</td>\n",
       "      <td>pc66</td>\n",
       "    </tr>\n",
       "    <tr>\n",
       "      <th>36198</th>\n",
       "      <td>2018-06-30 23:52:53</td>\n",
       "      <td>usr-tss</td>\n",
       "      <td>logoff</td>\n",
       "      <td>pc26</td>\n",
       "    </tr>\n",
       "    <tr>\n",
       "      <th>36199</th>\n",
       "      <td>2018-06-30 23:53:44</td>\n",
       "      <td>usr-dmr</td>\n",
       "      <td>logoff</td>\n",
       "      <td>pc74</td>\n",
       "    </tr>\n",
       "  </tbody>\n",
       "</table>\n",
       "<p>36200 rows × 4 columns</p>\n",
       "</div>"
      ],
      "text/plain": [
       "                 datetime     user  action    pc\n",
       "0     2018-01-01 00:21:56  usr-iea   login  pc63\n",
       "1     2018-01-01 01:29:51  usr-dnm   login  pc95\n",
       "2     2018-01-01 01:32:20  usr-nxa   login   pc9\n",
       "3     2018-01-01 01:41:58  usr-pum   login   pc2\n",
       "4     2018-01-01 01:46:17  usr-gtn   login  pc52\n",
       "...                   ...      ...     ...   ...\n",
       "36195 2018-06-30 23:10:54  usr-dnm  logoff  pc95\n",
       "36196 2018-06-30 23:13:54  usr-ayg  logoff  pc28\n",
       "36197 2018-06-30 23:39:37  usr-ywt  logoff  pc66\n",
       "36198 2018-06-30 23:52:53  usr-tss  logoff  pc26\n",
       "36199 2018-06-30 23:53:44  usr-dmr  logoff  pc74\n",
       "\n",
       "[36200 rows x 4 columns]"
      ]
     },
     "execution_count": 15,
     "metadata": {},
     "output_type": "execute_result"
    }
   ],
   "source": [
    "# This shows the login_data DataFrame\n",
    "login_data"
   ]
  },
  {
   "cell_type": "code",
   "execution_count": 16,
   "metadata": {},
   "outputs": [
    {
     "data": {
      "text/html": [
       "<div>\n",
       "<style scoped>\n",
       "    .dataframe tbody tr th:only-of-type {\n",
       "        vertical-align: middle;\n",
       "    }\n",
       "\n",
       "    .dataframe tbody tr th {\n",
       "        vertical-align: top;\n",
       "    }\n",
       "\n",
       "    .dataframe thead th {\n",
       "        text-align: right;\n",
       "    }\n",
       "</style>\n",
       "<table border=\"1\" class=\"dataframe\">\n",
       "  <thead>\n",
       "    <tr style=\"text-align: right;\">\n",
       "      <th></th>\n",
       "      <th>datetime</th>\n",
       "      <th>user</th>\n",
       "      <th>action</th>\n",
       "      <th>pc</th>\n",
       "    </tr>\n",
       "  </thead>\n",
       "  <tbody>\n",
       "  </tbody>\n",
       "</table>\n",
       "</div>"
      ],
      "text/plain": [
       "Empty DataFrame\n",
       "Columns: [datetime, user, action, pc]\n",
       "Index: []"
      ]
     },
     "execution_count": 16,
     "metadata": {},
     "output_type": "execute_result"
    }
   ],
   "source": [
    "# This shows how to filter the login_data DataFrame by a particular username\n",
    "login_data[login_data['user']=='usr-nic']"
   ]
  },
  {
   "cell_type": "code",
   "execution_count": 17,
   "metadata": {},
   "outputs": [
    {
     "data": {
      "text/html": [
       "<div>\n",
       "<style scoped>\n",
       "    .dataframe tbody tr th:only-of-type {\n",
       "        vertical-align: middle;\n",
       "    }\n",
       "\n",
       "    .dataframe tbody tr th {\n",
       "        vertical-align: top;\n",
       "    }\n",
       "\n",
       "    .dataframe thead th {\n",
       "        text-align: right;\n",
       "    }\n",
       "</style>\n",
       "<table border=\"1\" class=\"dataframe\">\n",
       "  <thead>\n",
       "    <tr style=\"text-align: right;\">\n",
       "      <th></th>\n",
       "      <th>datetime</th>\n",
       "      <th>user</th>\n",
       "      <th>action</th>\n",
       "      <th>pc</th>\n",
       "    </tr>\n",
       "  </thead>\n",
       "  <tbody>\n",
       "  </tbody>\n",
       "</table>\n",
       "</div>"
      ],
      "text/plain": [
       "Empty DataFrame\n",
       "Columns: [datetime, user, action, pc]\n",
       "Index: []"
      ]
     },
     "execution_count": 17,
     "metadata": {},
     "output_type": "execute_result"
    }
   ],
   "source": [
    "# This shows how to filter the login_data DataFrame by a particular set of usernames within a list\n",
    "login_data[login_data['user'].isin(['usr-nic'])]"
   ]
  },
  {
   "cell_type": "code",
   "execution_count": 18,
   "metadata": {},
   "outputs": [
    {
     "data": {
      "text/plain": [
       "array(['Security', 'Services', 'HR', 'Finance', 'Legal', 'Director',\n",
       "       'Technical'], dtype=object)"
      ]
     },
     "execution_count": 18,
     "metadata": {},
     "output_type": "execute_result"
    }
   ],
   "source": [
    "# all_roles is an array/list of all job roles that are within our DataFrame\n",
    "all_roles = employee_data['role'].unique()\n",
    "all_roles"
   ]
  },
  {
   "cell_type": "code",
   "execution_count": 19,
   "metadata": {},
   "outputs": [],
   "source": [
    "### This sample code helps to create two dictionary objects - user_set and user_set_emails - that group usernames and emails by job role.\n",
    "\n",
    "user_set = {}\n",
    "user_set_emails = {}\n",
    "all_roles = employee_data['role'].unique()\n",
    "for role in all_roles:\n",
    "    user_set[role] = list(employee_data[employee_data['role'] == role]['user'].values)\n",
    "    user_set_emails[role] = list(employee_data[employee_data['role'] == role]['email'].values)"
   ]
  },
  {
   "cell_type": "code",
   "execution_count": 20,
   "metadata": {},
   "outputs": [
    {
     "data": {
      "text/plain": [
       "['usr-kaa',\n",
       " 'usr-lpx',\n",
       " 'usr-xqz',\n",
       " 'usr-lnl',\n",
       " 'usr-ibv',\n",
       " 'usr-ihi',\n",
       " 'usr-vun',\n",
       " 'usr-mgl',\n",
       " 'usr-kbn',\n",
       " 'usr-idz',\n",
       " 'usr-snf',\n",
       " 'usr-kba']"
      ]
     },
     "execution_count": 20,
     "metadata": {},
     "output_type": "execute_result"
    }
   ],
   "source": [
    "# List all usernames that belong to the job role Finance\n",
    "user_set['Finance']"
   ]
  },
  {
   "cell_type": "markdown",
   "metadata": {},
   "source": [
    "### Question 1: For all Finance staff members during the month of January, show the distribution of when users logon and logoff by hour using one or more Bar Charts, and report the most common login and logoff time for this role.\n",
    "\n",
    "*Hint: Once you have filtered the data to only Finance staff in January, count the number of logons and logoffs that occur in each hour of the day.*\n",
    "\n",
    "#### (1 mark)"
   ]
  },
  {
   "cell_type": "code",
   "execution_count": 32,
   "metadata": {},
   "outputs": [
    {
     "name": "stderr",
     "output_type": "stream",
     "text": [
      "C:\\Users\\alexh\\AppData\\Local\\Temp\\ipykernel_28712\\678979628.py:10: SettingWithCopyWarning: \n",
      "A value is trying to be set on a copy of a slice from a DataFrame.\n",
      "Try using .loc[row_indexer,col_indexer] = value instead\n",
      "\n",
      "See the caveats in the documentation: https://pandas.pydata.org/pandas-docs/stable/user_guide/indexing.html#returning-a-view-versus-a-copy\n",
      "  jan_data['time'] = jan_data['datetime'].dt.time\n",
      "C:\\Users\\alexh\\AppData\\Local\\Temp\\ipykernel_28712\\678979628.py:12: SettingWithCopyWarning: \n",
      "A value is trying to be set on a copy of a slice from a DataFrame.\n",
      "Try using .loc[row_indexer,col_indexer] = value instead\n",
      "\n",
      "See the caveats in the documentation: https://pandas.pydata.org/pandas-docs/stable/user_guide/indexing.html#returning-a-view-versus-a-copy\n",
      "  jan_data['hour'] = jan_data['datetime'].dt.hour\n"
     ]
    },
    {
     "data": {
      "image/png": "[encoded data removed]",
      "text/plain": [
       "<Figure size 640x480 with 1 Axes>"
      ]
     },
     "metadata": {},
     "output_type": "display_data"
    }
   ],
   "source": [
    "######### ADD YOUR CODE HERE ##########\n",
    "import matplotlib.pyplot as plt\n",
    "import datetime as dt\n",
    "import pandas as pd\n",
    "\n",
    "login_data['datetime'] = pd.to_datetime(login_data['datetime'])\n",
    "\n",
    "#logged in data\n",
    "\n",
    "jan_data_loggedin = login_data[(login_data['datetime'] >= '2018-01-01') & (login_data['datetime'] < '2018-02-01') & (login_data['action'] == 'login')]\n",
    "\n",
    "jan_data_loggedin['time'] = jan_data_loggedin['datetime'].dt.time\n",
    "\n",
    "jan_data_loggedin['hour'] = jan_data_loggedin['datetime'].dt.hour\n",
    "\n",
    "#logged out data\n",
    "\n",
    "jan_data_logged_out = login_data[(login_data['datetime'] >= '2018-01-01') & (login_data['datetime'] < '2018-02-01') & (login_data['action'] == 'logoff')]\n",
    "\n",
    "jan_data_logged_out['time'] = jan_data_logged_out['datetime'].dt.time\n",
    "\n",
    "jan_data_logged_out['hour'] = jan_data_logged_out['datetime'].dt.hour\n",
    "\n",
    "#Gather all login occurances\n",
    "jan_data_loggedin.groupby('hour').size().plot(kind='bar')\n",
    "plt.xlabel('Hour of the Day')\n",
    "plt.ylabel('Number of Logins')\n",
    "plt.title('Logins by Hour in January 2018')\n",
    "plt.show()\n",
    "\n",
    "#Gather all logoff occurances\n",
    "jan_data_logged_out.groupby('hour').size().plot(kind='bar')\n",
    "plt.xlabel('Hour of the Day')\n",
    "plt.ylabel('Number of Logins')\n",
    "plt.title('Logins by Hour in January 2018')\n",
    "plt.show()"
   ]
  },
  {
   "cell_type": "markdown",
   "metadata": {},
   "source": [
    "### Question 2: Plot a multi-line chart that shows the logon and logoff times during the month of January for the user of pc42.\n",
    "\n",
    "*Hint: Filter the data as you need, and make two calls to plt.plot().*\n",
    "\n",
    "#### (1 mark)\n",
    "\n"
   ]
  },
  {
   "cell_type": "code",
   "execution_count": null,
   "metadata": {},
   "outputs": [],
   "source": [
    "######### ADD YOUR CODE HERE ##########"
   ]
  },
  {
   "cell_type": "markdown",
   "metadata": {},
   "source": [
    "### Question 3: Use a node-link graph to show all emails sent by Security staff on January 5th 2022. Your node link graph may show only those users who receive emails from the select senders.\n",
    "\n",
    "*Hint: Filter the data and then refer back to Question 4 from Part 1 to format the data correctly*\n",
    "\n",
    "#### (1 mark)"
   ]
  },
  {
   "cell_type": "code",
   "execution_count": null,
   "metadata": {},
   "outputs": [],
   "source": [
    "######### ADD YOUR CODE HERE ##########"
   ]
  },
  {
   "cell_type": "markdown",
   "metadata": {},
   "source": [
    "### (Advanced) Question 4: Extend the above, now showing a node for every possible user. The edge connections should be as above, for emails sent by Security staff on 5th January 2022. You should use a shell layout for your network plot.\n",
    "\n",
    "*Hint: Think about how to include all users as nodes. You may even include a dummy node and remove this in your processing depending on how you form your edgelist - https://networkx.org/documentation/stable/index.html*\n",
    "\n",
    "#### (3 marks)"
   ]
  },
  {
   "cell_type": "code",
   "execution_count": null,
   "metadata": {},
   "outputs": [],
   "source": [
    "######### ADD YOUR CODE HERE ##########"
   ]
  },
  {
   "cell_type": "markdown",
   "metadata": {},
   "source": [
    "### Question 5: Show a comparison between the files accessed by HR staff, Services staff, and Security staff, during January. You will need to think of a suitable way to convey this information within a single plot so that comparison of activity can be made easily.\n",
    "\n",
    "*Hint: Think which plot enables you to make comparisons between two attributes, and then think what the attributes would need to be for mapping three job roles against the possible set of files accessed.*\n",
    "\n",
    "#### (4 marks)"
   ]
  },
  {
   "cell_type": "code",
   "execution_count": null,
   "metadata": {},
   "outputs": [],
   "source": [
    "######### ADD YOUR CODE HERE ##########"
   ]
  },
  {
   "cell_type": "markdown",
   "metadata": {},
   "source": [
    "### Question 6: Carry on your own investigation to find the anomalous activity across all data files provided. Provide clear evidence and justification for your investigative steps.\n",
    "\n",
    "Marks are awarded for: \n",
    "- a clear explanation of the steps you take to complete your investigation (5)\n",
    "- suitable use of data analysis with clear explanation (6)\n",
    "- suitable use of visualisation methods with clear annotation (6)\n",
    "- identifying all of the suspicious events (8)\n",
    "\n",
    "#### (25 marks)"
   ]
  },
  {
   "cell_type": "code",
   "execution_count": 6,
   "metadata": {},
   "outputs": [],
   "source": [
    "######### ADD YOUR CODE HERE ##########"
   ]
  },
  {
   "cell_type": "markdown",
   "metadata": {},
   "source": [
    "### Question 7: Describe what you believe are the key findings of your investigation. You should clearly state the suspect identified, and the sequential order of suspicious events, including the date and time that these occurred. You should then provide your own critical reflection of what has occurred in this scenario, giving justification for any assumptions made. Limit your response to a maximum of 400 words. \n",
    "\n",
    "Please make clear which dataset you have used for your investigation.\n",
    "\n",
    "#### (10 marks)"
   ]
  },
  {
   "cell_type": "markdown",
   "metadata": {},
   "source": []
  }
 ],
 "metadata": {
  "kernelspec": {
   "display_name": "Python 3",
   "language": "python",
   "name": "python3"
  },
  "language_info": {
   "codemirror_mode": {
    "name": "ipython",
    "version": 3
   },
   "file_extension": ".py",
   "mimetype": "text/x-python",
   "name": "python",
   "nbconvert_exporter": "python",
   "pygments_lexer": "ipython3",
   "version": "3.11.9"
  },
  "widgets": {
   "state": {},
   "version": "1.1.2"
  }
 },
 "nbformat": 4,
 "nbformat_minor": 4
}
